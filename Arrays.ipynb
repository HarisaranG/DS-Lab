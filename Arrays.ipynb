{
 "metadata": {
  "language_info": {
   "codemirror_mode": {
    "name": "ipython",
    "version": 3
   },
   "file_extension": ".py",
   "mimetype": "text/x-python",
   "name": "python",
   "nbconvert_exporter": "python",
   "pygments_lexer": "ipython3",
   "version": "3.8.4-final"
  },
  "orig_nbformat": 2,
  "kernelspec": {
   "name": "python_defaultSpec_1598329312895",
   "display_name": "Python 3.8.4 32-bit"
  }
 },
 "nbformat": 4,
 "nbformat_minor": 2,
 "cells": [
  {
   "cell_type": "markdown",
   "metadata": {},
   "source": [
    "# Array Related Algorithms\n",
    "<hr>"
   ]
  },
  {
   "cell_type": "markdown",
   "metadata": {},
   "source": [
    "## 1. Finding Duplicates in an array in O(n) time and O(1) space.\n",
    "\n",
    "<p>The elements in the array is from 0 to n-1 and all of them are positive. So to find out the duplicate elements, a HashMap is required, but the question is to solve the problem in constant space. There is a catch, the array is of length n and the elements are from 0 to n-1 (n elements). The array can be used as a HashMap.<p>"
   ]
  },
  {
   "cell_type": "code",
   "execution_count": 2,
   "metadata": {
    "tags": []
   },
   "outputs": [
    {
     "output_type": "stream",
     "name": "stdout",
     "text": "The repeating elements are: \n1 3 6"
    }
   ],
   "source": [
    "# Python3 code to find \n",
    "# duplicates in O(n) time \n",
    "  \n",
    "# Function to print duplicates \n",
    "def printRepeating(arr, size): \n",
    "      \n",
    "    print(\"The repeating elements are: \") \n",
    "      \n",
    "    for i in range(0, size): \n",
    "          \n",
    "        if arr[abs(arr[i])] >= 0: \n",
    "            arr[abs(arr[i])] = -arr[abs(arr[i])] \n",
    "        else: \n",
    "            print (abs(arr[i]), end = \" \") \n",
    "              \n",
    "# Driver code \n",
    "arr = [1, 2, 3, 1, 3, 6, 6] \n",
    "arr_size = len(arr) \n",
    "  \n",
    "printRepeating(arr, arr_size)\n"
   ]
  },
  {
   "cell_type": "markdown",
   "metadata": {},
   "source": [
    "There is a problem in the above approach.\n",
    "It prints the repeated number more than once. For example: {1, 6, 3, 1, 3, 6, 6} it will give output as : 1      3 6 6. In below set, another approach is discussed that prints repeating elements only once."
   ]
  },
  {
   "cell_type": "code",
   "execution_count": 2,
   "metadata": {
    "tags": []
   },
   "outputs": [
    {
     "output_type": "stream",
     "name": "stdout",
     "text": "The repeating elements are : \n2 3"
    }
   ],
   "source": [
    "# Python3 code to find duplicates in O(n) time \n",
    "numRay = [0, 4, 3, 2, 7, 8, 2, 3, 1]; \n",
    "arr_size = len(numRay);  \n",
    "for i in range(arr_size): \n",
    "   \n",
    "    numRay[numRay[i] % arr_size] = numRay[numRay[i] % arr_size] +arr_size; \n",
    "   \n",
    "print(\"The repeating elements are : \"); \n",
    "for i in range(arr_size): \n",
    "    if (numRay[i] >= arr_size*2):  \n",
    "        print(i, end = \" \")"
   ]
  },
  {
   "cell_type": "markdown",
   "metadata": {},
   "source": [
    "## 2. Search in a row wise and column wise sorted matrix\n",
    "<p>The simple idea is to remove a row or column in each comparison until an element is found. Start searching from the top-right corner of the matrix. There are three possible cases<p>\n",
    "<ul>\n",
    "    <li>The given number is greater than the current number</li>\n",
    "    <li>The given number is smaller than the current number</li>\n",
    "    <li>The given number is equal to current number</li>\n",
    "</ul>\n",
    "\n",
    "##### Apply \"Binary Search\"\n"
   ]
  },
  {
   "cell_type": "code",
   "execution_count": 7,
   "metadata": {
    "tags": []
   },
   "outputs": [
    {
     "output_type": "stream",
     "name": "stdout",
     "text": "Found at  2 ,  1\n"
    }
   ],
   "source": [
    "# Python3 program to search an element \n",
    "# in row-wise and column-wise sorted matrix \n",
    "\n",
    "# Searches the element x in mat[][]. If the \n",
    "# element is found, then prints its position \n",
    "# and returns true, otherwise prints \"not found\" \n",
    "# and returns false \n",
    "def search(mat, n, x): \n",
    "\n",
    "\ti = 0\n",
    "\t\n",
    "\t# set indexes for top right element \n",
    "\tj = n - 1\n",
    "\twhile ( i < n and j >= 0 ): \n",
    "\t\n",
    "\t\tif (mat[i][j] == x ): \n",
    "\t\n",
    "\t\t\tprint(\"Found at \", i, \", \", j) \n",
    "\t\t\treturn\n",
    "\t\n",
    "\t\tif (mat[i][j] > x ): \n",
    "\t\t\tj -= 1\n",
    "\t\t\t\n",
    "\t\t# if mat[i][j] < x \n",
    "\t\telse: \n",
    "\t\t\ti += 1\n",
    "\t\n",
    "\tprint(\"Element not found\") \n",
    "\treturn 0 # if (i == n || j == -1 ) \n",
    "\n",
    "# Driver Code \n",
    "mat = [ [10, 20, 30, 40], \n",
    "\t\t[15, 25, 35, 45], \n",
    "\t\t[27, 29, 37, 48], \n",
    "\t\t[32, 33, 39, 50] ] \n",
    "search(mat, 4, 29)\n",
    " \n"
   ]
  },
  {
   "cell_type": "markdown",
   "metadata": {},
   "source": [
    "## 3.Largest Sum Contiguous Subarray\n",
    "#### Kadanes's Algorithm\n",
    "<pre>\n",
    "Initialize:\n",
    "    max_so_far = 0\n",
    "    max_ending_here = 0\n",
    "\n",
    "Loop for each element of the array\n",
    "  (a) max_ending_here = max_ending_here + a[i]\n",
    "  (b) if(max_so_far < max_ending_here)\n",
    "            max_so_far = max_ending_here\n",
    "  (c) if(max_ending_here < 0)\n",
    "            max_ending_here = 0\n",
    "return max_so_far\n",
    "</pre>\n"
   ]
  },
  {
   "cell_type": "code",
   "execution_count": 11,
   "metadata": {
    "tags": []
   },
   "outputs": [
    {
     "output_type": "stream",
     "name": "stdout",
     "text": "Maximum contiguous sum is -3\n"
    }
   ],
   "source": [
    "import sys\n",
    "def maxSubArraySum(a,size): \n",
    "       \n",
    "    max_so_far = -sys.maxsize - 1\n",
    "    max_ending_here = 0\n",
    "       \n",
    "    for i in range(0, size): \n",
    "        max_ending_here = max_ending_here + a[i] \n",
    "        if (max_so_far < max_ending_here): \n",
    "            max_so_far = max_ending_here \n",
    "  \n",
    "        if max_ending_here < 0: \n",
    "            max_ending_here = 0   \n",
    "    return max_so_far \n",
    "   \n",
    "# Driver function to check the above function  \n",
    "a = [-13, -3, -25, -20, -3, -16, -23, -12, -5, -22, -15, -4, -7]\n",
    "print(\"Maximum contiguous sum is\", maxSubArraySum(a,len(a)))"
   ]
  },
  {
   "cell_type": "code",
   "execution_count": null,
   "metadata": {},
   "outputs": [],
   "source": []
  }
 ]
}